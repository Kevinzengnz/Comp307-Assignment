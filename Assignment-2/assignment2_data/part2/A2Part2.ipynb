{
 "cells": [
  {
   "cell_type": "code",
   "execution_count": 1,
   "id": "2b38d94f",
   "metadata": {},
   "outputs": [],
   "source": [
    "#pip install deap"
   ]
  },
  {
   "cell_type": "markdown",
   "id": "bcd37b02",
   "metadata": {},
   "source": [
    "Note: If deap not installed, run above line."
   ]
  },
  {
   "cell_type": "code",
   "execution_count": 2,
   "id": "ddc65ea7",
   "metadata": {},
   "outputs": [],
   "source": [
    "import numpy, random\n",
    "from deap import algorithms, base, creator, tools, gp\n",
    "import matplotlib.pyplot as plt"
   ]
  },
  {
   "cell_type": "code",
   "execution_count": 3,
   "id": "b9f6961f",
   "metadata": {},
   "outputs": [
    {
     "data": {
      "text/plain": [
       "array([-2.  , -1.75, -1.5 , -1.25, -1.  , -0.75, -0.5 , -0.25,  0.  ,\n",
       "        0.25,  0.5 ,  0.75,  1.  ,  1.25,  1.5 ,  1.75,  2.  ,  2.25,\n",
       "        2.5 ,  2.75])"
      ]
     },
     "execution_count": 3,
     "metadata": {},
     "output_type": "execute_result"
    }
   ],
   "source": [
    "x =numpy.linspace(-2, 2.75, 20)\n",
    "x"
   ]
  },
  {
   "cell_type": "code",
   "execution_count": 4,
   "id": "3fc37346",
   "metadata": {},
   "outputs": [
    {
     "data": {
      "text/plain": [
       "array([37.     , 24.16016, 15.0625 ,  8.91016,  5.     ,  2.72266,\n",
       "        1.5625 ,  1.09766,  1.     ,  1.03516,  1.0625 ,  1.03516,\n",
       "        1.     ,  1.09766,  1.5625 ,  2.72266,  5.     ,  8.91016,\n",
       "       15.0625 , 24.16016])"
      ]
     },
     "execution_count": 4,
     "metadata": {},
     "output_type": "execute_result"
    }
   ],
   "source": [
    "yVals = numpy.array([37.00000,24.16016, 15.06250, 8.91016,5.00000,\n",
    "                     2.72266,1.56250,1.09766,1.00000,1.03516,\n",
    "                     1.06250,1.03516,1.00000,1.09766,1.56250,\n",
    "                     2.72266,5.00000,8.91016,15.06250,24.16016])\n",
    "yVals"
   ]
  },
  {
   "cell_type": "code",
   "execution_count": 6,
   "id": "7b77725d",
   "metadata": {},
   "outputs": [
    {
     "name": "stderr",
     "output_type": "stream",
     "text": [
      "C:\\Users\\Kevin\\anaconda3\\lib\\site-packages\\deap\\creator.py:138: RuntimeWarning: A class named 'FitnessMin' has already been created and it will be overwritten. Consider deleting previous creation of that class or rename it.\n",
      "  warnings.warn(\"A class named '{0}' has already been created and it \"\n",
      "C:\\Users\\Kevin\\anaconda3\\lib\\site-packages\\deap\\creator.py:138: RuntimeWarning: A class named 'Tree' has already been created and it will be overwritten. Consider deleting previous creation of that class or rename it.\n",
      "  warnings.warn(\"A class named '{0}' has already been created and it \"\n"
     ]
    },
    {
     "ename": "Exception",
     "evalue": "Ephemerals with different functions should be named differently, even between psets.",
     "output_type": "error",
     "traceback": [
      "\u001b[1;31m---------------------------------------------------------------------------\u001b[0m",
      "\u001b[1;31mException\u001b[0m                                 Traceback (most recent call last)",
      "Input \u001b[1;32mIn [6]\u001b[0m, in \u001b[0;36m<cell line: 10>\u001b[1;34m()\u001b[0m\n\u001b[0;32m      7\u001b[0m pset\u001b[38;5;241m.\u001b[39maddPrimitive(numpy\u001b[38;5;241m.\u001b[39mmultiply, arity\u001b[38;5;241m=\u001b[39m\u001b[38;5;241m2\u001b[39m)\n\u001b[0;32m      8\u001b[0m pset\u001b[38;5;241m.\u001b[39maddPrimitive(numpy\u001b[38;5;241m.\u001b[39mnegative, arity\u001b[38;5;241m=\u001b[39m\u001b[38;5;241m1\u001b[39m)\n\u001b[1;32m---> 10\u001b[0m \u001b[43mpset\u001b[49m\u001b[38;5;241;43m.\u001b[39;49m\u001b[43maddEphemeralConstant\u001b[49m\u001b[43m(\u001b[49m\u001b[38;5;124;43m\"\u001b[39;49m\u001b[38;5;124;43mone\u001b[39;49m\u001b[38;5;124;43m\"\u001b[39;49m\u001b[43m,\u001b[49m\u001b[43m \u001b[49m\u001b[38;5;28;43;01mlambda\u001b[39;49;00m\u001b[43m:\u001b[49m\u001b[43m \u001b[49m\u001b[43mrandom\u001b[49m\u001b[38;5;241;43m.\u001b[39;49m\u001b[43mrandint\u001b[49m\u001b[43m(\u001b[49m\u001b[38;5;241;43m-\u001b[39;49m\u001b[38;5;241;43m1\u001b[39;49m\u001b[43m,\u001b[49m\u001b[43m \u001b[49m\u001b[38;5;241;43m1\u001b[39;49m\u001b[43m)\u001b[49m\u001b[43m)\u001b[49m\n\u001b[0;32m     12\u001b[0m \u001b[38;5;28;01mdef\u001b[39;00m \u001b[38;5;21mevaluateRegression\u001b[39m(individual, points, pset):\n\u001b[0;32m     13\u001b[0m     func \u001b[38;5;241m=\u001b[39m gp\u001b[38;5;241m.\u001b[39mcompile(expr\u001b[38;5;241m=\u001b[39mindividual, pset\u001b[38;5;241m=\u001b[39mpset)\n",
      "File \u001b[1;32m~\\anaconda3\\lib\\site-packages\\deap\\gp.py:456\u001b[0m, in \u001b[0;36mPrimitiveSet.addEphemeralConstant\u001b[1;34m(self, name, ephemeral)\u001b[0m\n\u001b[0;32m    454\u001b[0m \u001b[38;5;28;01mdef\u001b[39;00m \u001b[38;5;21maddEphemeralConstant\u001b[39m(\u001b[38;5;28mself\u001b[39m, name, ephemeral):\n\u001b[0;32m    455\u001b[0m     \u001b[38;5;124;03m\"\"\"Add an ephemeral constant to the set.\"\"\"\u001b[39;00m\n\u001b[1;32m--> 456\u001b[0m     \u001b[43mPrimitiveSetTyped\u001b[49m\u001b[38;5;241;43m.\u001b[39;49m\u001b[43maddEphemeralConstant\u001b[49m\u001b[43m(\u001b[49m\u001b[38;5;28;43mself\u001b[39;49m\u001b[43m,\u001b[49m\u001b[43m \u001b[49m\u001b[43mname\u001b[49m\u001b[43m,\u001b[49m\u001b[43m \u001b[49m\u001b[43mephemeral\u001b[49m\u001b[43m,\u001b[49m\u001b[43m \u001b[49m\u001b[43m__type__\u001b[49m\u001b[43m)\u001b[49m\n",
      "File \u001b[1;32m~\\anaconda3\\lib\\site-packages\\deap\\gp.py:402\u001b[0m, in \u001b[0;36mPrimitiveSetTyped.addEphemeralConstant\u001b[1;34m(self, name, ephemeral, ret_type)\u001b[0m\n\u001b[0;32m    400\u001b[0m \u001b[38;5;28;01mif\u001b[39;00m \u001b[38;5;28missubclass\u001b[39m(class_, Ephemeral):\n\u001b[0;32m    401\u001b[0m     \u001b[38;5;28;01mif\u001b[39;00m class_\u001b[38;5;241m.\u001b[39mfunc \u001b[38;5;129;01mis\u001b[39;00m \u001b[38;5;129;01mnot\u001b[39;00m ephemeral:\n\u001b[1;32m--> 402\u001b[0m         \u001b[38;5;28;01mraise\u001b[39;00m \u001b[38;5;167;01mException\u001b[39;00m(\u001b[38;5;124m\"\u001b[39m\u001b[38;5;124mEphemerals with different functions should \u001b[39m\u001b[38;5;124m\"\u001b[39m\n\u001b[0;32m    403\u001b[0m                         \u001b[38;5;124m\"\u001b[39m\u001b[38;5;124mbe named differently, even between psets.\u001b[39m\u001b[38;5;124m\"\u001b[39m)\n\u001b[0;32m    404\u001b[0m     \u001b[38;5;28;01melif\u001b[39;00m class_\u001b[38;5;241m.\u001b[39mret \u001b[38;5;129;01mis\u001b[39;00m \u001b[38;5;129;01mnot\u001b[39;00m ret_type:\n\u001b[0;32m    405\u001b[0m         \u001b[38;5;28;01mraise\u001b[39;00m \u001b[38;5;167;01mException\u001b[39;00m(\u001b[38;5;124m\"\u001b[39m\u001b[38;5;124mEphemerals with the same name and function \u001b[39m\u001b[38;5;124m\"\u001b[39m\n\u001b[0;32m    406\u001b[0m                         \u001b[38;5;124m\"\u001b[39m\u001b[38;5;124mshould have the same type, even between psets.\u001b[39m\u001b[38;5;124m\"\u001b[39m)\n",
      "\u001b[1;31mException\u001b[0m: Ephemerals with different functions should be named differently, even between psets."
     ]
    }
   ],
   "source": [
    "creator.create(\"FitnessMin\", base.Fitness, weights=(-1.0,))\n",
    "creator.create(\"Tree\", gp.PrimitiveTree, fitness=creator.FitnessMin)\n",
    "\n",
    "pset = gp.PrimitiveSet(name=\"MAIN\", arity=1)\n",
    "pset.addPrimitive(numpy.add, arity=2)\n",
    "pset.addPrimitive(numpy.subtract, arity=2)\n",
    "pset.addPrimitive(numpy.multiply, arity=2)\n",
    "pset.addPrimitive(numpy.negative, arity=1)\n",
    "\n",
    "pset.addEphemeralConstant(\"one\", lambda: random.randint(-1, 1))\n",
    "\n",
    "def evaluateRegression(individual, points, pset):\n",
    "    func = gp.compile(expr=individual, pset=pset)\n",
    "    sqerrors = (func(points)-yVals)**2\n",
    "    return (numpy.sqrt(numpy.sum(sqerrors) / len(points)),)\n",
    "\n",
    "toolbox = base.Toolbox()\n",
    "toolbox.register(\"expr\", gp.genFull, pset=pset, min_=1, max_=3)\n",
    "toolbox.register(\"individual\", tools.initIterate, creator.Tree, toolbox.expr)\n",
    "toolbox.register(\"population\", tools.initRepeat, list, toolbox.individual)\n",
    "toolbox.register(\"evaluate\", evaluateRegression, points=numpy.linspace(-2, 2.75, 20), pset=pset)\n",
    "toolbox.register(\"mate\", gp.cxOnePoint)\n",
    "toolbox.register(\"expr_mut\", gp.genFull, min_=0, max_=2)\n",
    "toolbox.register(\"mutate\", gp.mutUniform, expr=toolbox.expr_mut, pset=pset)\n",
    "toolbox.register(\"select\", tools.selTournament, tournsize=3)\n",
    "\n",
    "if __name__ == \"__main__\":\n",
    "    pop = toolbox.population(n=300)\n",
    "    algorithms.eaSimple(pop, toolbox, cxpb=0.5, mutpb=0.2, ngen=50, verbose=False)\n",
    "    best = tools.selBest(pop, k=1)[0]\n",
    "    print(best)\n",
    "    func = gp.compile(expr=best, pset=pset)\n",
    "    plt.plot(x, yVals, label = \"actual\")\n",
    "    plt.plot(x, func(x), label = \"regression function\")\n",
    "    plt.legend()\n",
    "    \n",
    "    fitness = evaluateRegression(best, x, pset)\n",
    "    print('Fitness', fitness)"
   ]
  },
  {
   "cell_type": "code",
   "execution_count": null,
   "id": "b7cd4bd5",
   "metadata": {},
   "outputs": [],
   "source": []
  }
 ],
 "metadata": {
  "kernelspec": {
   "display_name": "Python 3 (ipykernel)",
   "language": "python",
   "name": "python3"
  },
  "language_info": {
   "codemirror_mode": {
    "name": "ipython",
    "version": 3
   },
   "file_extension": ".py",
   "mimetype": "text/x-python",
   "name": "python",
   "nbconvert_exporter": "python",
   "pygments_lexer": "ipython3",
   "version": "3.9.12"
  }
 },
 "nbformat": 4,
 "nbformat_minor": 5
}
