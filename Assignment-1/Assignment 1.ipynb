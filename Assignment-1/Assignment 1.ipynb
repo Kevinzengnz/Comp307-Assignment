{
 "cells": [
  {
   "cell_type": "markdown",
   "id": "6ba147a9",
   "metadata": {},
   "source": [
    "# Part 1: k-Nearest Neighbour Method\n"
   ]
  },
  {
   "cell_type": "code",
   "execution_count": 1,
   "id": "ba67ecd4",
   "metadata": {},
   "outputs": [],
   "source": [
    "import pandas as pd\n",
    "import matplotlib.pyplot as plt\n",
    "import numpy as np\n",
    "import math\n",
    "import sys\n",
    "from scipy.stats import mode"
   ]
  },
  {
   "cell_type": "code",
   "execution_count": 2,
   "id": "e4c0dc89",
   "metadata": {},
   "outputs": [],
   "source": [
    "#trainingSet = str(input())\n",
    "#testSet = str(input())"
   ]
  },
  {
   "cell_type": "code",
   "execution_count": 3,
   "id": "eddc6048",
   "metadata": {},
   "outputs": [
    {
     "data": {
      "text/plain": [
       "Index(['Alcohol', 'Malic_acid', 'Ash', 'Alcalinity_of_ash', 'Magnesium',\n",
       "       'Total_phenols', 'Flavanoids', 'Nonflavanoid_phenols',\n",
       "       'Proanthocyanins', 'Color_intensity', 'Hue',\n",
       "       'OD280%2FOD315_of_diluted_wines', 'Proline', 'Class'],\n",
       "      dtype='object')"
      ]
     },
     "execution_count": 3,
     "metadata": {},
     "output_type": "execute_result"
    }
   ],
   "source": [
    "trainingSet = pd.read_csv('assignment1_data\\part1\\wine-training',sep=' ')\n",
    "trainingSet.columns"
   ]
  },
  {
   "cell_type": "code",
   "execution_count": 4,
   "id": "c3b81e2c",
   "metadata": {},
   "outputs": [
    {
     "data": {
      "text/plain": [
       "Index(['Alcohol', 'Malic_acid', 'Ash', 'Alcalinity_of_ash', 'Magnesium',\n",
       "       'Total_phenols', 'Flavanoids', 'Nonflavanoid_phenols',\n",
       "       'Proanthocyanins', 'Color_intensity', 'Hue',\n",
       "       'OD280%2FOD315_of_diluted_wines', 'Proline', 'Class'],\n",
       "      dtype='object')"
      ]
     },
     "execution_count": 4,
     "metadata": {},
     "output_type": "execute_result"
    }
   ],
   "source": [
    "testSet = pd.read_csv('assignment1_data\\part1\\wine-test',sep=' ')\n",
    "testSet.columns"
   ]
  },
  {
   "cell_type": "code",
   "execution_count": 5,
   "id": "ff850df8",
   "metadata": {},
   "outputs": [
    {
     "name": "stdout",
     "output_type": "stream",
     "text": [
      "[1.225e+01 1.730e+00 2.120e+00 1.900e+01 8.000e+01 1.650e+00 2.030e+00\n",
      " 3.700e-01 1.630e+00 3.400e+00 1.000e+00 3.170e+00 5.100e+02]\n",
      "[1 2 2 1 1 2 1 2 2 1 1 3 3 3 1 2 2 1 2 2 2 1 2 2 2 3 3 2 3 2 1 3 1 2 2 3 3\n",
      " 1 2 1 2 2 1 3 2 1 1 1 3 1 3 1 3 2 2 1 1 2 3 3 1 2 1 2 3 3 2 3 1 2 1 3 2 3\n",
      " 2 2 2 1 2 2 2 3 1 1 3 3 1 3 2]\n"
     ]
    }
   ],
   "source": [
    "X = trainingSet.drop(\"Class\", axis = 1)\n",
    "X = X.values\n",
    "y = trainingSet[\"Class\"]\n",
    "y = y.values\n",
    "print(X[1])\n",
    "print(y)"
   ]
  },
  {
   "cell_type": "code",
   "execution_count": 6,
   "id": "2fc9be8a",
   "metadata": {},
   "outputs": [
    {
     "name": "stdout",
     "output_type": "stream",
     "text": [
      "[3 3 3 1 1 1 2 2 1 2 2 2 3 3 1 2 3 3 1 1 3 2 2 3 2 2 2 3 2 1 2 1 2 1 2 2 2\n",
      " 2 2 1 2 2 3 1 2 1 3 2 2 1 3 1 1 3 3 1 1 3 1 3 3 2 2 3 2 3 3 1 1 2 2 3 2 2\n",
      " 1 1 1 3 1 1 2 2 3 1 2 1 1 2 1]\n"
     ]
    }
   ],
   "source": [
    "testData = testSet.drop(\"Class\", axis = 1)\n",
    "testData = testData.values\n",
    "actualTestClasses = testSet[\"Class\"].values\n",
    "print(actualTestClasses)"
   ]
  },
  {
   "cell_type": "code",
   "execution_count": 7,
   "id": "d47c9fe3",
   "metadata": {},
   "outputs": [],
   "source": [
    "#get ranges\n",
    "\n",
    "ranges = np.array([None] * (trainingSet.columns.size - 1))\n",
    "rangesSize = ranges.size\n",
    "for i in range (rangesSize):\n",
    "    ranges[i] = X[:,i].max() - X[:,i].min()"
   ]
  },
  {
   "cell_type": "code",
   "execution_count": 8,
   "id": "47d63a59",
   "metadata": {},
   "outputs": [],
   "source": [
    "#Returns the k nearest neighbours\n",
    "def kNN(k):\n",
    "    rows, cols = testData.shape\n",
    "    predictions = np.array([None] * rows)\n",
    "    for x in range (rows):\n",
    "        testItem = testData[x]\n",
    "        distances = getAllDistances(testItem, X)\n",
    "       \n",
    "        #Find which neighbours are closest\n",
    "        nearest_neighbor_ids = distances.argsort()[:k]\n",
    "        nearest_neighbor_classes = y[nearest_neighbor_ids]\n",
    "\n",
    "        prediction = mode(nearest_neighbor_classes)[0][0]\n",
    "        predictions[x] = round(prediction) \n",
    "    return predictions"
   ]
  },
  {
   "cell_type": "code",
   "execution_count": 9,
   "id": "7b95fbc7",
   "metadata": {},
   "outputs": [],
   "source": [
    "def getAllDistances(v1, List):\n",
    "    rows, cols = testData.shape\n",
    "    ans = np.array([None] * rows)\n",
    "    for i in range (rows):\n",
    "        ans[i] = normDistance(v1, List[i])\n",
    "    return ans\n",
    "\n",
    "#should return an int\n",
    "\n",
    "def normDistance(v1, v2):\n",
    "    ans = 0\n",
    "    for i in range (v1.size):\n",
    "        ans += ((v1[i] - v2[i]) ** 2) / (ranges[i] ** 2)\n",
    "    return math.sqrt(ans)"
   ]
  },
  {
   "cell_type": "code",
   "execution_count": 10,
   "id": "81f050c8",
   "metadata": {},
   "outputs": [
    {
     "name": "stdout",
     "output_type": "stream",
     "text": [
      "[3 3 3 1 1 1 1 2 1 2 2 3 3 3 1 2 3 3 1 1 3 2 2 3 2 3 2 3 2 1 2 1 2 1 2 2 2\n",
      " 2 2 1 2 2 3 1 2 1 3 2 2 1 3 1 1 3 3 1 1 3 1 3 3 1 2 3 2 3 3 1 1 2 1 3 2 2\n",
      " 1 1 1 3 1 1 2 2 3 1 2 1 1 2 1]\n"
     ]
    }
   ],
   "source": [
    "print(kNN(1))"
   ]
  },
  {
   "cell_type": "code",
   "execution_count": 11,
   "id": "f70197a3",
   "metadata": {},
   "outputs": [
    {
     "name": "stdout",
     "output_type": "stream",
     "text": [
      "[3 3 3 1 1 1 2 2 1 2 3 3 3 3 1 2 3 3 1 1 3 2 2 3 2 3 2 3 2 1 2 1 2 1 2 2 2\n",
      " 2 2 1 2 2 3 1 2 1 3 2 2 1 3 1 1 3 3 1 1 3 1 3 3 1 2 3 2 3 3 1 1 2 2 3 2 2\n",
      " 1 1 1 3 1 1 2 2 3 1 2 1 1 2 1]\n"
     ]
    }
   ],
   "source": [
    "print(kNN(3))"
   ]
  },
  {
   "cell_type": "code",
   "execution_count": 12,
   "id": "4a9f8230",
   "metadata": {},
   "outputs": [
    {
     "name": "stdout",
     "output_type": "stream",
     "text": [
      "[3 3 3 1 1 1 2 2 1 2 2 2 3 3 1 2 3 3 1 1 3 2 2 3 2 2 2 3 2 1 2 1 2 1 2 2 2\n",
      " 2 2 1 2 2 3 1 2 1 3 2 2 1 3 1 1 3 3 1 1 3 1 3 3 2 2 3 2 3 3 1 1 2 2 3 2 2\n",
      " 1 1 1 3 1 1 2 2 3 1 2 1 1 2 1]\n"
     ]
    }
   ],
   "source": [
    "print(actualTestClasses)"
   ]
  },
  {
   "cell_type": "code",
   "execution_count": 13,
   "id": "535cbe37",
   "metadata": {},
   "outputs": [
    {
     "name": "stdout",
     "output_type": "stream",
     "text": [
      "84\n",
      "0.9438202247191011\n"
     ]
    },
    {
     "data": {
      "text/plain": [
       "array([0, 0, 0, 0, 0, 0, 1, 0, 0, 0, 0, -1, 0, 0, 0, 0, 0, 0, 0, 0, 0, 0,\n",
       "       0, 0, 0, -1, 0, 0, 0, 0, 0, 0, 0, 0, 0, 0, 0, 0, 0, 0, 0, 0, 0, 0,\n",
       "       0, 0, 0, 0, 0, 0, 0, 0, 0, 0, 0, 0, 0, 0, 0, 0, 0, 1, 0, 0, 0, 0,\n",
       "       0, 0, 0, 0, 1, 0, 0, 0, 0, 0, 0, 0, 0, 0, 0, 0, 0, 0, 0, 0, 0, 0,\n",
       "       0], dtype=object)"
      ]
     },
     "execution_count": 13,
     "metadata": {},
     "output_type": "execute_result"
    }
   ],
   "source": [
    "difference1 = actualTestClasses - kNN(1)\n",
    "correctNum = 0\n",
    "for i in range (difference1.size):\n",
    "    if(difference1[i] == 0):\n",
    "        correctNum += 1\n",
    "print(correctNum)\n",
    "print(correctNum / difference1.size)\n",
    "difference1"
   ]
  },
  {
   "cell_type": "code",
   "execution_count": 14,
   "id": "16db1881",
   "metadata": {},
   "outputs": [
    {
     "name": "stdout",
     "output_type": "stream",
     "text": [
      "85\n",
      "0.9550561797752809\n"
     ]
    },
    {
     "data": {
      "text/plain": [
       "array([0, 0, 0, 0, 0, 0, 0, 0, 0, 0, -1, -1, 0, 0, 0, 0, 0, 0, 0, 0, 0, 0,\n",
       "       0, 0, 0, -1, 0, 0, 0, 0, 0, 0, 0, 0, 0, 0, 0, 0, 0, 0, 0, 0, 0, 0,\n",
       "       0, 0, 0, 0, 0, 0, 0, 0, 0, 0, 0, 0, 0, 0, 0, 0, 0, 1, 0, 0, 0, 0,\n",
       "       0, 0, 0, 0, 0, 0, 0, 0, 0, 0, 0, 0, 0, 0, 0, 0, 0, 0, 0, 0, 0, 0,\n",
       "       0], dtype=object)"
      ]
     },
     "execution_count": 14,
     "metadata": {},
     "output_type": "execute_result"
    }
   ],
   "source": [
    "difference3 = actualTestClasses - kNN(3)\n",
    "correctNum = 0\n",
    "for i in range (difference3.size):\n",
    "    if(difference3[i] == 0):\n",
    "        correctNum += 1\n",
    "print(correctNum)\n",
    "print(correctNum / difference3.size)\n",
    "difference3"
   ]
  },
  {
   "cell_type": "markdown",
   "id": "742559ee",
   "metadata": {},
   "source": [
    "#  Part 2: Decision Tree Learning Method"
   ]
  },
  {
   "cell_type": "code",
   "execution_count": 218,
   "id": "998003f5",
   "metadata": {},
   "outputs": [],
   "source": [
    "dtTraining = pd.read_csv('assignment1_data\\part2\\hepatitis-training',sep=' ')\n",
    "dtTest = pd.read_csv('assignment1_data\\part2\\hepatitis-test',sep=' ')"
   ]
  },
  {
   "cell_type": "code",
   "execution_count": 219,
   "id": "dbeb602e",
   "metadata": {},
   "outputs": [
    {
     "data": {
      "text/plain": [
       "Index(['AGE', 'FEMALE', 'STEROID', 'ANTIVIRALS', 'FATIGUE', 'MALAISE',\n",
       "       'ANOREXIA', 'BIGLIVER', 'FIRMLIVER', 'SPLEENPALPABLE', 'SPIDERS',\n",
       "       'ASCITES', 'VARICES', 'BILIRUBIN', 'SGOT', 'HISTOLOGY'],\n",
       "      dtype='object')"
      ]
     },
     "execution_count": 219,
     "metadata": {},
     "output_type": "execute_result"
    }
   ],
   "source": [
    "classColumns = dtTraining.drop(\"Class\", axis = 1).columns\n",
    "classColumns"
   ]
  },
  {
   "cell_type": "code",
   "execution_count": 220,
   "id": "13e54abe",
   "metadata": {},
   "outputs": [
    {
     "data": {
      "text/plain": [
       "array(['live', 'die', 'live', 'live', 'live', 'live', 'live', 'live',\n",
       "       'live', 'live', 'live', 'live', 'live', 'die', 'live', 'live',\n",
       "       'die', 'live', 'live', 'live', 'live', 'live', 'live', 'die',\n",
       "       'die', 'live', 'live', 'live', 'die', 'live', 'live', 'live',\n",
       "       'die', 'live', 'live', 'die', 'live', 'die', 'live', 'live',\n",
       "       'live', 'live', 'live', 'live', 'live', 'live', 'live', 'live',\n",
       "       'die', 'die', 'live', 'live', 'die', 'live', 'live', 'die', 'live',\n",
       "       'live', 'live', 'live', 'live', 'live', 'die', 'live', 'live',\n",
       "       'live', 'live', 'live', 'live', 'live', 'live', 'live', 'live',\n",
       "       'live', 'die', 'die', 'live', 'live', 'die', 'live', 'live',\n",
       "       'live', 'live', 'live', 'live', 'die', 'live', 'live', 'live',\n",
       "       'live', 'live', 'live', 'live', 'live', 'live', 'die', 'live',\n",
       "       'live', 'live', 'live', 'live', 'live', 'live', 'die', 'live',\n",
       "       'die', 'live', 'live', 'live', 'live', 'live', 'live'],\n",
       "      dtype=object)"
      ]
     },
     "execution_count": 220,
     "metadata": {},
     "output_type": "execute_result"
    }
   ],
   "source": [
    "trainingClasses = dtTraining[\"Class\"]\n",
    "trainingClasses = trainingClasses.values\n",
    "trainingClasses"
   ]
  },
  {
   "cell_type": "code",
   "execution_count": 221,
   "id": "d78c6d2b",
   "metadata": {
    "scrolled": true
   },
   "outputs": [
    {
     "data": {
      "text/plain": [
       "array([[False, False,  True, ..., False, False,  True],\n",
       "       [False, False, False, ..., False, False, False],\n",
       "       [False, False, False, ...,  True,  True,  True],\n",
       "       ...,\n",
       "       [ True, False, False, ...,  True,  True,  True],\n",
       "       [ True, False, False, ..., False,  True, False],\n",
       "       [False,  True,  True, ..., False, False, False]])"
      ]
     },
     "execution_count": 221,
     "metadata": {},
     "output_type": "execute_result"
    }
   ],
   "source": [
    "trainingData = dtTraining.drop(\"Class\", axis = 1)\n",
    "trainingInstances = trainingData.values\n",
    "\n",
    "trainingAttributes = trainingData.transpose() #sorted by columns\n",
    "trainingAttributes = trainingAttributes.values\n",
    "trainingAttributes"
   ]
  },
  {
   "cell_type": "code",
   "execution_count": 222,
   "id": "1457f603",
   "metadata": {},
   "outputs": [
    {
     "data": {
      "text/plain": [
       "{'AGE': 0,\n",
       " 'FEMALE': 1,\n",
       " 'STEROID': 2,\n",
       " 'ANTIVIRALS': 3,\n",
       " 'FATIGUE': 4,\n",
       " 'MALAISE': 5,\n",
       " 'ANOREXIA': 6,\n",
       " 'BIGLIVER': 7,\n",
       " 'FIRMLIVER': 8,\n",
       " 'SPLEENPALPABLE': 9,\n",
       " 'SPIDERS': 10,\n",
       " 'ASCITES': 11,\n",
       " 'VARICES': 12,\n",
       " 'BILIRUBIN': 13,\n",
       " 'SGOT': 14,\n",
       " 'HISTOLOGY': 15}"
      ]
     },
     "execution_count": 222,
     "metadata": {},
     "output_type": "execute_result"
    }
   ],
   "source": [
    "attributeToValues = dict() #class name to true/falses\n",
    "attributeToId = dict() #class name to classColumns id\n",
    "for i in range (classColumns.size):\n",
    "    attributeToId[classColumns[i]] = i\n",
    "    attributeToValues[classColumns[i]] = trainingAttributes[i]\n",
    "attributeToId"
   ]
  },
  {
   "cell_type": "code",
   "execution_count": 223,
   "id": "eb3e415a",
   "metadata": {},
   "outputs": [
    {
     "data": {
      "text/plain": [
       "{'AGE': array([False, False,  True, False, False, False, False,  True, False,\n",
       "        False,  True, False, False, False,  True, False, False, False,\n",
       "        False, False,  True, False, False, False,  True, False, False,\n",
       "        False, False,  True,  True, False, False, False,  True, False,\n",
       "        False, False, False,  True, False, False, False,  True,  True,\n",
       "        False, False,  True,  True, False, False, False, False, False,\n",
       "        False, False, False, False,  True, False,  True,  True, False,\n",
       "        False, False, False, False, False, False,  True,  True,  True,\n",
       "         True, False, False, False, False, False, False,  True,  True,\n",
       "        False, False, False, False, False, False,  True, False, False,\n",
       "        False, False, False, False, False,  True, False, False, False,\n",
       "        False, False, False, False,  True, False, False, False, False,\n",
       "        False, False, False,  True]),\n",
       " 'FEMALE': array([False, False, False, False, False, False, False,  True, False,\n",
       "        False, False, False, False, False, False, False, False, False,\n",
       "        False,  True, False,  True, False, False, False, False, False,\n",
       "        False, False, False, False, False, False, False, False, False,\n",
       "        False, False, False, False,  True, False, False, False, False,\n",
       "        False, False, False, False, False, False, False, False, False,\n",
       "        False, False, False, False, False, False,  True, False, False,\n",
       "        False, False, False,  True, False, False, False, False,  True,\n",
       "        False, False, False, False, False,  True, False, False, False,\n",
       "        False,  True, False,  True, False, False, False,  True, False,\n",
       "        False, False, False, False,  True, False, False, False, False,\n",
       "        False,  True, False, False, False, False, False, False, False,\n",
       "        False, False, False, False]),\n",
       " 'STEROID': array([False, False, False, False, False, False, False,  True,  True,\n",
       "        False,  True,  True,  True, False,  True,  True, False,  True,\n",
       "         True, False,  True, False,  True,  True,  True,  True,  True,\n",
       "         True, False,  True, False,  True, False,  True, False,  True,\n",
       "         True, False,  True,  True, False, False,  True, False, False,\n",
       "         True,  True, False,  True,  True,  True,  True,  True,  True,\n",
       "         True,  True, False,  True, False,  True,  True,  True,  True,\n",
       "         True, False, False, False,  True, False,  True, False,  True,\n",
       "         True, False, False,  True, False,  True, False, False,  True,\n",
       "        False, False,  True,  True,  True,  True, False,  True, False,\n",
       "        False,  True, False, False,  True,  True, False, False, False,\n",
       "        False, False,  True, False, False,  True, False,  True,  True,\n",
       "        False,  True,  True,  True]),\n",
       " 'ANTIVIRALS': array([ True,  True,  True, False,  True,  True,  True,  True,  True,\n",
       "         True,  True,  True,  True, False, False,  True,  True,  True,\n",
       "         True,  True,  True,  True,  True,  True,  True,  True,  True,\n",
       "         True,  True,  True, False,  True,  True,  True,  True,  True,\n",
       "         True,  True,  True,  True, False,  True,  True, False,  True,\n",
       "         True,  True,  True,  True,  True,  True,  True,  True, False,\n",
       "         True,  True,  True,  True,  True,  True,  True, False,  True,\n",
       "         True, False,  True, False,  True,  True,  True,  True,  True,\n",
       "         True,  True,  True,  True, False,  True,  True,  True,  True,\n",
       "         True,  True, False, False,  True,  True,  True,  True,  True,\n",
       "         True, False,  True, False, False,  True,  True,  True,  True,\n",
       "         True,  True,  True,  True,  True,  True,  True,  True,  True,\n",
       "         True,  True, False,  True]),\n",
       " 'FATIGUE': array([False, False, False,  True, False, False, False, False,  True,\n",
       "        False, False,  True,  True, False, False,  True, False, False,\n",
       "         True,  True, False,  True,  True, False, False, False,  True,\n",
       "         True, False,  True,  True,  True,  True,  True, False, False,\n",
       "        False, False,  True,  True,  True,  True, False, False,  True,\n",
       "         True, False, False, False, False,  True, False,  True, False,\n",
       "        False, False, False,  True,  True,  True, False, False, False,\n",
       "        False, False, False,  True, False,  True,  True, False, False,\n",
       "        False,  True, False, False, False, False, False, False, False,\n",
       "         True, False, False, False, False,  True, False, False, False,\n",
       "        False, False, False,  True, False, False,  True, False, False,\n",
       "        False, False,  True, False, False, False, False, False, False,\n",
       "        False,  True, False,  True]),\n",
       " 'MALAISE': array([False, False, False,  True, False, False, False,  True,  True,\n",
       "         True,  True,  True,  True, False, False,  True, False,  True,\n",
       "         True,  True,  True,  True,  True, False,  True,  True,  True,\n",
       "         True, False,  True,  True,  True,  True,  True,  True, False,\n",
       "         True, False,  True,  True,  True,  True, False, False,  True,\n",
       "         True, False,  True, False,  True,  True, False,  True,  True,\n",
       "         True, False,  True,  True,  True,  True,  True,  True, False,\n",
       "         True, False, False,  True, False,  True,  True,  True, False,\n",
       "         True,  True, False,  True, False, False, False, False, False,\n",
       "         True, False, False, False, False,  True, False, False, False,\n",
       "         True,  True, False,  True,  True,  True,  True, False,  True,\n",
       "        False, False,  True,  True, False,  True, False, False, False,\n",
       "         True,  True,  True,  True]),\n",
       " 'ANOREXIA': array([False,  True,  True,  True,  True,  True, False,  True,  True,\n",
       "         True,  True,  True,  True,  True,  True,  True, False,  True,\n",
       "         True,  True,  True,  True,  True, False,  True,  True,  True,\n",
       "         True,  True,  True,  True,  True,  True,  True,  True, False,\n",
       "         True,  True,  True,  True,  True,  True, False,  True,  True,\n",
       "         True, False,  True, False,  True,  True, False,  True,  True,\n",
       "         True,  True,  True,  True,  True,  True,  True,  True, False,\n",
       "         True, False, False,  True,  True,  True,  True,  True,  True,\n",
       "         True,  True, False,  True,  True, False,  True, False,  True,\n",
       "         True, False, False, False,  True,  True,  True,  True,  True,\n",
       "         True,  True, False,  True,  True,  True,  True, False,  True,\n",
       "        False,  True,  True,  True, False,  True,  True, False, False,\n",
       "         True,  True,  True,  True]),\n",
       " 'BIGLIVER': array([ True,  True, False, False,  True, False, False,  True,  True,\n",
       "         True, False,  True,  True,  True, False,  True,  True,  True,\n",
       "         True,  True,  True, False,  True,  True, False, False,  True,\n",
       "         True,  True,  True, False,  True,  True,  True,  True,  True,\n",
       "         True, False,  True,  True,  True,  True,  True,  True,  True,\n",
       "         True,  True, False,  True,  True,  True,  True,  True,  True,\n",
       "         True,  True,  True,  True,  True,  True,  True,  True,  True,\n",
       "         True,  True,  True,  True,  True,  True, False, False,  True,\n",
       "         True,  True,  True,  True,  True, False,  True,  True,  True,\n",
       "        False, False,  True,  True,  True,  True,  True,  True,  True,\n",
       "         True,  True,  True, False,  True,  True,  True,  True,  True,\n",
       "         True,  True,  True, False, False,  True,  True,  True, False,\n",
       "         True,  True,  True,  True]),\n",
       " 'FIRMLIVER': array([False,  True, False, False,  True, False, False, False,  True,\n",
       "         True, False,  True, False, False, False,  True,  True, False,\n",
       "         True, False,  True,  True,  True, False, False, False,  True,\n",
       "         True,  True, False, False,  True, False,  True,  True,  True,\n",
       "        False, False,  True,  True,  True, False,  True,  True,  True,\n",
       "         True, False,  True,  True,  True,  True,  True,  True, False,\n",
       "         True, False,  True,  True,  True,  True,  True, False,  True,\n",
       "        False, False, False, False,  True,  True, False, False, False,\n",
       "        False,  True, False,  True,  True, False, False, False, False,\n",
       "        False, False,  True,  True, False,  True,  True, False, False,\n",
       "         True, False,  True, False,  True, False,  True,  True, False,\n",
       "         True,  True,  True, False, False,  True,  True,  True, False,\n",
       "        False,  True, False,  True]),\n",
       " 'SPLEENPALPABLE': array([ True,  True,  True,  True,  True,  True,  True,  True,  True,\n",
       "         True,  True,  True, False,  True,  True,  True, False,  True,\n",
       "         True,  True,  True,  True,  True,  True, False, False,  True,\n",
       "         True, False, False,  True,  True,  True,  True,  True,  True,\n",
       "         True,  True,  True,  True,  True,  True,  True,  True,  True,\n",
       "         True,  True,  True,  True,  True,  True,  True,  True, False,\n",
       "         True,  True,  True,  True,  True,  True,  True,  True,  True,\n",
       "         True,  True,  True,  True,  True,  True,  True,  True,  True,\n",
       "        False,  True,  True, False,  True,  True,  True, False, False,\n",
       "        False, False,  True,  True,  True, False,  True,  True,  True,\n",
       "         True,  True,  True,  True,  True, False,  True,  True,  True,\n",
       "         True, False,  True,  True,  True,  True, False, False, False,\n",
       "         True,  True,  True,  True]),\n",
       " 'SPIDERS': array([ True,  True, False,  True,  True, False,  True, False,  True,\n",
       "        False,  True,  True,  True,  True,  True,  True,  True,  True,\n",
       "         True,  True,  True,  True,  True, False, False, False,  True,\n",
       "         True, False, False,  True,  True,  True,  True,  True, False,\n",
       "         True, False,  True,  True,  True, False,  True,  True,  True,\n",
       "         True, False,  True, False, False,  True, False, False,  True,\n",
       "         True, False,  True,  True,  True,  True,  True,  True, False,\n",
       "         True, False,  True,  True,  True,  True, False,  True, False,\n",
       "        False,  True, False, False,  True, False, False, False, False,\n",
       "         True, False, False,  True,  True,  True,  True,  True, False,\n",
       "         True,  True,  True,  True,  True,  True,  True,  True,  True,\n",
       "         True,  True,  True, False, False,  True,  True,  True, False,\n",
       "         True,  True, False,  True]),\n",
       " 'ASCITES': array([ True, False,  True,  True,  True,  True,  True,  True,  True,\n",
       "         True,  True,  True,  True,  True,  True,  True,  True,  True,\n",
       "         True,  True,  True,  True,  True, False,  True, False,  True,\n",
       "         True,  True,  True,  True,  True,  True,  True,  True, False,\n",
       "         True,  True,  True,  True,  True,  True,  True,  True,  True,\n",
       "         True,  True,  True, False,  True,  True,  True,  True,  True,\n",
       "         True, False,  True,  True,  True,  True,  True,  True, False,\n",
       "         True,  True,  True,  True,  True,  True,  True,  True,  True,\n",
       "         True,  True, False, False,  True,  True, False,  True, False,\n",
       "         True,  True,  True,  True, False,  True, False,  True,  True,\n",
       "         True,  True, False,  True,  True, False,  True,  True,  True,\n",
       "         True,  True,  True,  True,  True,  True,  True,  True,  True,\n",
       "         True,  True,  True,  True]),\n",
       " 'VARICES': array([ True,  True,  True,  True,  True,  True,  True,  True,  True,\n",
       "         True,  True,  True,  True,  True,  True,  True,  True,  True,\n",
       "         True,  True,  True,  True,  True, False,  True, False,  True,\n",
       "         True,  True,  True,  True,  True,  True,  True,  True,  True,\n",
       "         True,  True,  True,  True,  True,  True,  True,  True,  True,\n",
       "         True,  True,  True,  True,  True,  True, False, False,  True,\n",
       "         True, False,  True,  True,  True,  True,  True,  True, False,\n",
       "         True,  True,  True,  True,  True,  True,  True,  True,  True,\n",
       "        False,  True, False,  True,  True,  True, False, False,  True,\n",
       "         True,  True,  True,  True, False,  True,  True,  True,  True,\n",
       "         True,  True,  True,  True,  True, False,  True,  True,  True,\n",
       "         True,  True,  True,  True,  True,  True, False,  True,  True,\n",
       "         True,  True,  True,  True]),\n",
       " 'BILIRUBIN': array([ True, False, False,  True, False,  True, False,  True, False,\n",
       "        False,  True, False, False,  True,  True, False,  True,  True,\n",
       "        False, False, False,  True, False,  True,  True,  True,  True,\n",
       "        False,  True,  True,  True, False, False,  True,  True,  True,\n",
       "        False,  True, False,  True, False, False, False,  True,  True,\n",
       "         True,  True, False,  True, False, False,  True,  True,  True,\n",
       "        False,  True,  True, False, False, False,  True,  True,  True,\n",
       "        False, False,  True, False, False, False, False,  True,  True,\n",
       "         True,  True,  True,  True,  True, False,  True,  True, False,\n",
       "        False,  True, False, False,  True,  True,  True,  True, False,\n",
       "         True, False,  True, False, False,  True,  True, False, False,\n",
       "         True,  True, False,  True,  True,  True, False,  True,  True,\n",
       "         True,  True,  True,  True]),\n",
       " 'SGOT': array([ True, False, False, False, False, False, False, False, False,\n",
       "         True, False, False, False, False, False, False,  True,  True,\n",
       "        False, False, False, False, False, False,  True,  True, False,\n",
       "        False, False, False,  True,  True, False, False, False,  True,\n",
       "         True,  True, False, False, False, False, False, False, False,\n",
       "         True,  True, False, False, False, False, False, False, False,\n",
       "        False, False,  True,  True, False, False,  True, False,  True,\n",
       "        False, False, False, False, False, False, False, False,  True,\n",
       "        False, False, False, False, False, False,  True,  True, False,\n",
       "        False, False, False, False, False, False, False,  True,  True,\n",
       "        False, False, False, False, False, False, False, False,  True,\n",
       "         True, False, False, False,  True, False, False,  True, False,\n",
       "         True, False,  True, False]),\n",
       " 'HISTOLOGY': array([False,  True,  True, False, False,  True,  True, False, False,\n",
       "         True,  True,  True,  True, False, False, False,  True, False,\n",
       "        False, False, False, False,  True,  True, False,  True, False,\n",
       "         True,  True,  True,  True, False,  True, False,  True,  True,\n",
       "         True, False, False,  True, False, False, False, False,  True,\n",
       "        False,  True, False, False, False, False, False,  True, False,\n",
       "        False,  True,  True, False, False, False,  True,  True,  True,\n",
       "        False, False, False, False, False, False,  True, False, False,\n",
       "         True,  True,  True,  True, False,  True,  True,  True,  True,\n",
       "        False, False, False, False,  True,  True,  True, False,  True,\n",
       "         True, False, False, False, False,  True, False, False, False,\n",
       "         True, False, False, False,  True, False,  True, False, False,\n",
       "         True, False, False, False])}"
      ]
     },
     "execution_count": 223,
     "metadata": {},
     "output_type": "execute_result"
    }
   ],
   "source": [
    "attributeToValues"
   ]
  },
  {
   "cell_type": "code",
   "execution_count": 224,
   "id": "e4e91b8b",
   "metadata": {},
   "outputs": [
    {
     "data": {
      "text/plain": [
       "(0.8125, 'live')"
      ]
     },
     "execution_count": 224,
     "metadata": {},
     "output_type": "execute_result"
    }
   ],
   "source": [
    "classMode = mode(trainingClasses)\n",
    "mostCommonClass = classMode[0][0]\n",
    "#Probability of the mode across the entire training set\n",
    "modeProbability = classMode[1][0] / trainingClasses.size\n",
    "\n",
    "modeProbability, mostCommonClass"
   ]
  },
  {
   "cell_type": "code",
   "execution_count": 225,
   "id": "2545e944",
   "metadata": {},
   "outputs": [],
   "source": [
    "#instanceClasses is a list of the classes of each instance\n",
    "#ie either 'live' or 'die'\n",
    "def impurity(instanceClasses):\n",
    "    modeOfInstances = mode(instanceClasses)\n",
    "    m = modeOfInstances[1][0]\n",
    "    n = len(instanceClasses) - m\n",
    "    #PBI: Probability-based impurity\n",
    "    pbi = (m*n) / ((n + m) ** 2)\n",
    "    return pbi\n",
    "\n",
    "def weightedAverageImpurity(leftSize, rightSize, leftImpurity, rightImpurity):\n",
    "    parentSize = leftSize + rightSize\n",
    "    nL = leftSize / parentSize\n",
    "    nR = rightSize / parentSize\n",
    "    return (nL * leftImpurity) + (nR * rightImpurity)"
   ]
  },
  {
   "cell_type": "code",
   "execution_count": 226,
   "id": "36a817e9",
   "metadata": {},
   "outputs": [],
   "source": [
    "class Node:\n",
    "    def __init__(self, attribute, left, right):\n",
    "        self.attribute = attribute\n",
    "        self.left = left\n",
    "        self.right = right\n",
    "    def report(self, indent):\n",
    "        print(indent, self.attribute, \" = True:\")\n",
    "        self.left.report(indent + \"  \")\n",
    "        print(indent, self.attribute, \" = False:\")\n",
    "        self.right.report(indent + \"  \")\n",
    "class LeafNode:\n",
    "    def __init__(self, name, probability):\n",
    "        self.name = name\n",
    "        self.probability = probability\n",
    "    def report(self, indent):\n",
    "        if(self.probability == 0):\n",
    "            print(indent, \"Unknown\")\n",
    "        else:\n",
    "            print(indent, \"Class \", self.name, \", prob=\", self.probability)"
   ]
  },
  {
   "cell_type": "code",
   "execution_count": 227,
   "id": "53bbf61b",
   "metadata": {},
   "outputs": [],
   "source": [
    "#Instances: The set of training instances that have been provided to the node being constructed\n",
    "#Instances is a list.\n",
    "#Attributes: The set of attributes that were not used on the path from the root to this node\n",
    "def buildTree(instances, attributes, classes):    \n",
    "    if(len(instances) == 0):\n",
    "        #return a leaf node that contains the name and probability \n",
    "        #of the most probable class across the whole training set (ie the 'baseline' predictor)\n",
    "        return LeafNode(mostCommonClass, modeProbability)\n",
    "    impurityOfClass = impurity(classes)\n",
    "    \n",
    "    localMode = mode(classes)\n",
    "    commonClass = localMode[0][0]\n",
    "    currentProbability = localMode[1][0] / len(classes)\n",
    "    if(impurityOfClass == 0): #instances are pure (ie all belong to same class)\n",
    "        return LeafNode(commonClass, 1.0) \n",
    "        #return a leaf node that contains the name of the class and probability 1\n",
    "    elif(len(attributes) == 0):        \n",
    "        return LeafNode(commonClass, currentProbability)\n",
    "        #return a leaf node that contains the name and probability \n",
    "        #of the most majority class of instances, chosen randomly if classes are equal\n",
    "    else:\n",
    "        #find best attribute\n",
    "        bestPurity = sys.float_info.max\n",
    "        bestAtt = None\n",
    "        bestInstsTrue = None\n",
    "        bestTrueClasses = None\n",
    "        bestInstsFalse = None\n",
    "        bestFalseClasses = None\n",
    "        #i is attribute number/column\n",
    "        i = 0\n",
    "        for att in attributes: #att is attribute name/key\n",
    "            #separate instances into:\n",
    "            #1) instance classes and instances for which attribute is true\n",
    "            instanceTrueClasses = list()\n",
    "            instanceTrue = list()\n",
    "            #2) instance classes and instances for which attribute is false\n",
    "            instanceFalseClasses = list()\n",
    "            instanceFalse = list()\n",
    "            for instId in range(len(instances)):\n",
    "                if(instances[instId][i] == True):\n",
    "                    instanceTrueClasses.append(classes[instId])\n",
    "                    instanceTrue.append(instances[instId])\n",
    "                else:\n",
    "                    instanceFalseClasses.append(classes[instId])\n",
    "                    instanceFalse.append(instances[instId])\n",
    "            \n",
    "            if(len(instanceTrueClasses) == 0):\n",
    "                trueProb = 1 \n",
    "            else:\n",
    "                trueProb = impurity(instanceTrueClasses)\n",
    "            \n",
    "            if(len(instanceFalseClasses) == 0):\n",
    "                falseProb = 1\n",
    "            else:\n",
    "                falseProb = impurity(instanceFalseClasses)\n",
    "            weightedAvg = weightedAverageImpurity(len(instanceTrueClasses), len(instanceFalseClasses), \n",
    "                                                  trueProb, falseProb)\n",
    "            #print(weightedAvg)\n",
    "            \n",
    "            #compute purity of two sets\n",
    "            if(weightedAvg < bestPurity): #weighted avg purity of these sets is best so far\n",
    "                bestPurity = weightedAvg\n",
    "                bestAtt = att\n",
    "                bestInstsTrue = instanceTrue\n",
    "                bestTrueClasses = instanceTrueClasses\n",
    "                bestInstsFalse = instanceFalse\n",
    "                bestFalseClasses = instanceFalseClasses\n",
    "            i += 1\n",
    "        \n",
    "        \n",
    "        #build subtrees using remaining attributes:\n",
    "        newAttributes = attributes.copy()\n",
    "        newAttributes.pop(bestAtt)\n",
    "        left = buildTree(bestInstsTrue.copy(), attributes.copy(), bestTrueClasses.copy())\n",
    "        right = buildTree(bestInstsFalse.copy(), attributes.copy(), bestFalseClasses.copy())\n",
    "        return Node(bestAtt, left, right)"
   ]
  },
  {
   "cell_type": "code",
   "execution_count": 239,
   "id": "cbafcb7e",
   "metadata": {},
   "outputs": [],
   "source": [
    "rootNode = buildTree(trainingInstances.tolist(), attributeToValues, trainingClasses.tolist())"
   ]
  },
  {
   "cell_type": "code",
   "execution_count": 233,
   "id": "4010805c",
   "metadata": {},
   "outputs": [
    {
     "name": "stdout",
     "output_type": "stream",
     "text": [
      "   ASCITES  = True:\n",
      "     SPIDERS  = True:\n",
      "       VARICES  = True:\n",
      "         STEROID  = True:\n",
      "           Class  live , prob= 1.0\n",
      "         STEROID  = False:\n",
      "           SPLEENPALPABLE  = True:\n",
      "             FIRMLIVER  = True:\n",
      "               Class  live , prob= 1.0\n",
      "             FIRMLIVER  = False:\n",
      "               BIGLIVER  = True:\n",
      "                 SGOT  = True:\n",
      "                   Class  live , prob= 1.0\n",
      "                 SGOT  = False:\n",
      "                   FEMALE  = True:\n",
      "                     Class  live , prob= 1.0\n",
      "                   FEMALE  = False:\n",
      "                     ANOREXIA  = True:\n",
      "                       Class  die , prob= 1.0\n",
      "                     ANOREXIA  = False:\n",
      "                       Class  live , prob= 1.0\n",
      "               BIGLIVER  = False:\n",
      "                 Class  live , prob= 1.0\n",
      "           SPLEENPALPABLE  = False:\n",
      "             ANOREXIA  = True:\n",
      "               Class  live , prob= 1.0\n",
      "             ANOREXIA  = False:\n",
      "               Class  die , prob= 1.0\n",
      "       VARICES  = False:\n",
      "         Class  die , prob= 1.0\n",
      "     SPIDERS  = False:\n",
      "       FIRMLIVER  = True:\n",
      "         ANOREXIA  = True:\n",
      "           SGOT  = True:\n",
      "             Class  live , prob= 1.0\n",
      "           SGOT  = False:\n",
      "             Class  die , prob= 1.0\n",
      "         ANOREXIA  = False:\n",
      "           Class  live , prob= 1.0\n",
      "       FIRMLIVER  = False:\n",
      "         SGOT  = True:\n",
      "           BIGLIVER  = True:\n",
      "             Class  live , prob= 1.0\n",
      "           BIGLIVER  = False:\n",
      "             Class  die , prob= 1.0\n",
      "         SGOT  = False:\n",
      "           Class  live , prob= 1.0\n",
      "   ASCITES  = False:\n",
      "     BIGLIVER  = True:\n",
      "       VARICES  = True:\n",
      "         FIRMLIVER  = True:\n",
      "           STEROID  = True:\n",
      "             Class  die , prob= 1.0\n",
      "           STEROID  = False:\n",
      "             BILIRUBIN  = True:\n",
      "               Class  live , prob= 1.0\n",
      "             BILIRUBIN  = False:\n",
      "               Class  die , prob= 1.0\n",
      "         FIRMLIVER  = False:\n",
      "           Class  live , prob= 1.0\n",
      "       VARICES  = False:\n",
      "         Class  die , prob= 1.0\n",
      "     BIGLIVER  = False:\n",
      "       Class  live , prob= 1.0\n"
     ]
    }
   ],
   "source": [
    "rootNode.report(\"  \")"
   ]
  },
  {
   "cell_type": "code",
   "execution_count": 234,
   "id": "b6352914",
   "metadata": {},
   "outputs": [
    {
     "data": {
      "text/plain": [
       "array(['live', 'die', 'live', 'live', 'live', 'live', 'die', 'live',\n",
       "       'live', 'live', 'live', 'live', 'live', 'live', 'die', 'die',\n",
       "       'live', 'live', 'die', 'live', 'live', 'live', 'live', 'live',\n",
       "       'live'], dtype=object)"
      ]
     },
     "execution_count": 234,
     "metadata": {},
     "output_type": "execute_result"
    }
   ],
   "source": [
    "testData = dtTest.drop(\"Class\", axis = 1)\n",
    "testData = testData.values\n",
    "actualTestClasses = dtTest[\"Class\"].values\n",
    "actualTestClasses"
   ]
  },
  {
   "cell_type": "code",
   "execution_count": 235,
   "id": "3cdcbd55",
   "metadata": {},
   "outputs": [],
   "source": [
    "#Follows instructions from data to find leafNode recursively\n",
    "def navigateDecisionTree(node, data):\n",
    "    if(isinstance(node,LeafNode)):\n",
    "        return node\n",
    "    else:\n",
    "        attribute = node.attribute\n",
    "        attId = attributeToId[attribute]\n",
    "        if(data[attId] == True):\n",
    "            return navigateDecisionTree(node.left, data)\n",
    "        else:\n",
    "            return navigateDecisionTree(node.right, data)"
   ]
  },
  {
   "cell_type": "code",
   "execution_count": 236,
   "id": "c584f43a",
   "metadata": {},
   "outputs": [
    {
     "name": "stdout",
     "output_type": "stream",
     "text": [
      "['die', 'live', 'live', 'live', 'live', 'live', 'live', 'live', 'live', 'live', 'live', 'live', 'live', 'live', 'live', 'live', 'live', 'live', 'die', 'live', 'live', 'die', 'live', 'live', 'live']\n"
     ]
    }
   ],
   "source": [
    "dtPredictions = list()\n",
    "rows, cols = testData.shape\n",
    "for i in range(rows):\n",
    "    dtPredictions.append(navigateDecisionTree(rootNode,testData[i]).name)\n",
    "print(dtPredictions)"
   ]
  },
  {
   "cell_type": "code",
   "execution_count": 237,
   "id": "21bf8785",
   "metadata": {},
   "outputs": [
    {
     "data": {
      "text/plain": [
       "array(['live', 'die', 'live', 'live', 'live', 'live', 'die', 'live',\n",
       "       'live', 'live', 'live', 'live', 'live', 'live', 'die', 'die',\n",
       "       'live', 'live', 'die', 'live', 'live', 'live', 'live', 'live',\n",
       "       'live'], dtype=object)"
      ]
     },
     "execution_count": 237,
     "metadata": {},
     "output_type": "execute_result"
    }
   ],
   "source": [
    "actualTestClasses"
   ]
  },
  {
   "cell_type": "code",
   "execution_count": 238,
   "id": "19b086ef",
   "metadata": {},
   "outputs": [
    {
     "name": "stdout",
     "output_type": "stream",
     "text": [
      "Accuracy for decision tree:  0.76\n"
     ]
    }
   ],
   "source": [
    "correctNum = 0\n",
    "for i in range (len(dtPredictions)):\n",
    "    if(dtPredictions[i] == actualTestClasses[i]):\n",
    "        correctNum += 1\n",
    "print(\"Accuracy for decision tree: \", (correctNum / len(dtPredictions)))"
   ]
  },
  {
   "cell_type": "code",
   "execution_count": 143,
   "id": "3009df9b",
   "metadata": {},
   "outputs": [
    {
     "name": "stdout",
     "output_type": "stream",
     "text": [
      "Accuracy when always predicting the most common class:  0.8\n"
     ]
    }
   ],
   "source": [
    "correctNum = 0\n",
    "for i in range (len(actualTestClasses)):\n",
    "    if(mostCommonClass == actualTestClasses[i]):\n",
    "        correctNum += 1\n",
    "print(\"Accuracy when always predicting the most common class: \", (correctNum / len(actualTestClasses)))"
   ]
  },
  {
   "cell_type": "markdown",
   "id": "de008ce6",
   "metadata": {},
   "source": [
    "# Part 3: Perceptron"
   ]
  },
  {
   "cell_type": "code",
   "execution_count": 35,
   "id": "6ec46478",
   "metadata": {},
   "outputs": [],
   "source": [
    "ionosphereData = pd.read_csv('assignment1_data\\part3\\ionosphere.data',sep=' ')\n",
    "data = ionosphereData.drop(\"class\", axis = 1)\n",
    "data = data.values"
   ]
  },
  {
   "cell_type": "code",
   "execution_count": 36,
   "id": "e92727c2",
   "metadata": {},
   "outputs": [
    {
     "data": {
      "text/plain": [
       "351"
      ]
     },
     "execution_count": 36,
     "metadata": {},
     "output_type": "execute_result"
    }
   ],
   "source": [
    "ionosphereClasses = ionosphereData[\"class\"].values\n",
    "ionosphereClasses.size"
   ]
  },
  {
   "cell_type": "code",
   "execution_count": 37,
   "id": "c0b82af6",
   "metadata": {},
   "outputs": [],
   "source": [
    "def predict(row, weights):\n",
    "    activation = weights[0] #first weight is bias\n",
    "    for i in range(len(row)):\n",
    "        activation += weights[i + 1] * row[i]\n",
    "    if(activation >= 0):\n",
    "        return 'g'\n",
    "    else:\n",
    "        return 'b'"
   ]
  },
  {
   "cell_type": "code",
   "execution_count": 38,
   "id": "945d72a9",
   "metadata": {},
   "outputs": [],
   "source": [
    "#Perceptron algorithm\n",
    "def trainWeights(trainingData, learningRate, maxIterations):\n",
    "    weights = np.zeros(len(trainingData[0]) + 1)\n",
    "    bias = weights[0]\n",
    "    it = 0\n",
    "    allCorrect = False\n",
    "    while not allCorrect and it < maxIterations: #while perceptron is not always right, or some limit\n",
    "        allCorrect = True\n",
    "        correctNum = 0\n",
    "        #Present an example (+ve or -ve)\n",
    "        for i in range(len(trainingData)):\n",
    "            y = predict(trainingData[i], weights)\n",
    "            #print(\"Expected=%s, Predicted=%s\" % (ionosphereClasses[i], y))\n",
    "            if(y == ionosphereClasses[i]): #Perceptron correct\n",
    "                correctNum += 1\n",
    "                continue\n",
    "            elif(y == 'b'): #example is +ve and wrong\n",
    "                allCorrect = False\n",
    "                weights[0] += learningRate\n",
    "                weights[1:] += (trainingData[i] * learningRate)\n",
    "                #i.e. weights on active features are too low\n",
    "                #Add feature vector to weight vector\n",
    "                \n",
    "            elif(y == 'g'): #example is -ve and wrong\n",
    "                allCorrect = False\n",
    "                weights[0] -= learningRate\n",
    "                weights[1:] -= trainingData[i] * learningRate\n",
    "                #i.e. weights on active features are too high\n",
    "                #Subtract feature vector from weight vector\n",
    "        print(\"Number correct: \", correctNum, \", Accuracy = \", correctNum/len(trainingData), \"%\")\n",
    "        it += 1"
   ]
  },
  {
   "cell_type": "code",
   "execution_count": 39,
   "id": "34e711e7",
   "metadata": {},
   "outputs": [
    {
     "name": "stdout",
     "output_type": "stream",
     "text": [
      "Number correct:  277 , Accuracy =  0.7891737891737892 %\n",
      "Number correct:  285 , Accuracy =  0.811965811965812 %\n",
      "Number correct:  298 , Accuracy =  0.8490028490028491 %\n",
      "Number correct:  299 , Accuracy =  0.8518518518518519 %\n",
      "Number correct:  292 , Accuracy =  0.8319088319088319 %\n",
      "Number correct:  301 , Accuracy =  0.8575498575498576 %\n",
      "Number correct:  304 , Accuracy =  0.8660968660968661 %\n",
      "Number correct:  299 , Accuracy =  0.8518518518518519 %\n",
      "Number correct:  302 , Accuracy =  0.8603988603988604 %\n",
      "Number correct:  305 , Accuracy =  0.8689458689458689 %\n",
      "Number correct:  301 , Accuracy =  0.8575498575498576 %\n",
      "Number correct:  299 , Accuracy =  0.8518518518518519 %\n",
      "Number correct:  305 , Accuracy =  0.8689458689458689 %\n",
      "Number correct:  306 , Accuracy =  0.8717948717948718 %\n",
      "Number correct:  307 , Accuracy =  0.8746438746438746 %\n",
      "Number correct:  320 , Accuracy =  0.9116809116809117 %\n",
      "Number correct:  312 , Accuracy =  0.8888888888888888 %\n",
      "Number correct:  313 , Accuracy =  0.8917378917378918 %\n",
      "Number correct:  305 , Accuracy =  0.8689458689458689 %\n",
      "Number correct:  307 , Accuracy =  0.8746438746438746 %\n",
      "Number correct:  307 , Accuracy =  0.8746438746438746 %\n",
      "Number correct:  311 , Accuracy =  0.886039886039886 %\n",
      "Number correct:  310 , Accuracy =  0.8831908831908832 %\n",
      "Number correct:  310 , Accuracy =  0.8831908831908832 %\n",
      "Number correct:  307 , Accuracy =  0.8746438746438746 %\n",
      "Number correct:  314 , Accuracy =  0.8945868945868946 %\n",
      "Number correct:  311 , Accuracy =  0.886039886039886 %\n",
      "Number correct:  313 , Accuracy =  0.8917378917378918 %\n",
      "Number correct:  309 , Accuracy =  0.8803418803418803 %\n",
      "Number correct:  311 , Accuracy =  0.886039886039886 %\n",
      "Number correct:  306 , Accuracy =  0.8717948717948718 %\n",
      "Number correct:  316 , Accuracy =  0.9002849002849003 %\n",
      "Number correct:  313 , Accuracy =  0.8917378917378918 %\n",
      "Number correct:  317 , Accuracy =  0.9031339031339032 %\n",
      "Number correct:  313 , Accuracy =  0.8917378917378918 %\n",
      "Number correct:  306 , Accuracy =  0.8717948717948718 %\n",
      "Number correct:  310 , Accuracy =  0.8831908831908832 %\n",
      "Number correct:  307 , Accuracy =  0.8746438746438746 %\n",
      "Number correct:  317 , Accuracy =  0.9031339031339032 %\n",
      "Number correct:  319 , Accuracy =  0.9088319088319088 %\n",
      "Number correct:  310 , Accuracy =  0.8831908831908832 %\n",
      "Number correct:  314 , Accuracy =  0.8945868945868946 %\n",
      "Number correct:  318 , Accuracy =  0.905982905982906 %\n",
      "Number correct:  314 , Accuracy =  0.8945868945868946 %\n",
      "Number correct:  310 , Accuracy =  0.8831908831908832 %\n",
      "Number correct:  313 , Accuracy =  0.8917378917378918 %\n",
      "Number correct:  313 , Accuracy =  0.8917378917378918 %\n",
      "Number correct:  311 , Accuracy =  0.886039886039886 %\n",
      "Number correct:  304 , Accuracy =  0.8660968660968661 %\n",
      "Number correct:  316 , Accuracy =  0.9002849002849003 %\n",
      "Number correct:  312 , Accuracy =  0.8888888888888888 %\n",
      "Number correct:  314 , Accuracy =  0.8945868945868946 %\n",
      "Number correct:  319 , Accuracy =  0.9088319088319088 %\n",
      "Number correct:  319 , Accuracy =  0.9088319088319088 %\n",
      "Number correct:  314 , Accuracy =  0.8945868945868946 %\n",
      "Number correct:  312 , Accuracy =  0.8888888888888888 %\n",
      "Number correct:  314 , Accuracy =  0.8945868945868946 %\n",
      "Number correct:  321 , Accuracy =  0.9145299145299145 %\n",
      "Number correct:  312 , Accuracy =  0.8888888888888888 %\n",
      "Number correct:  317 , Accuracy =  0.9031339031339032 %\n",
      "Number correct:  317 , Accuracy =  0.9031339031339032 %\n",
      "Number correct:  315 , Accuracy =  0.8974358974358975 %\n",
      "Number correct:  319 , Accuracy =  0.9088319088319088 %\n",
      "Number correct:  311 , Accuracy =  0.886039886039886 %\n",
      "Number correct:  321 , Accuracy =  0.9145299145299145 %\n",
      "Number correct:  310 , Accuracy =  0.8831908831908832 %\n",
      "Number correct:  314 , Accuracy =  0.8945868945868946 %\n",
      "Number correct:  316 , Accuracy =  0.9002849002849003 %\n",
      "Number correct:  317 , Accuracy =  0.9031339031339032 %\n",
      "Number correct:  313 , Accuracy =  0.8917378917378918 %\n",
      "Number correct:  311 , Accuracy =  0.886039886039886 %\n",
      "Number correct:  319 , Accuracy =  0.9088319088319088 %\n",
      "Number correct:  308 , Accuracy =  0.8774928774928775 %\n",
      "Number correct:  308 , Accuracy =  0.8774928774928775 %\n",
      "Number correct:  319 , Accuracy =  0.9088319088319088 %\n",
      "Number correct:  319 , Accuracy =  0.9088319088319088 %\n",
      "Number correct:  311 , Accuracy =  0.886039886039886 %\n",
      "Number correct:  322 , Accuracy =  0.9173789173789174 %\n",
      "Number correct:  309 , Accuracy =  0.8803418803418803 %\n",
      "Number correct:  312 , Accuracy =  0.8888888888888888 %\n",
      "Number correct:  309 , Accuracy =  0.8803418803418803 %\n",
      "Number correct:  316 , Accuracy =  0.9002849002849003 %\n",
      "Number correct:  313 , Accuracy =  0.8917378917378918 %\n",
      "Number correct:  302 , Accuracy =  0.8603988603988604 %\n",
      "Number correct:  311 , Accuracy =  0.886039886039886 %\n",
      "Number correct:  322 , Accuracy =  0.9173789173789174 %\n",
      "Number correct:  317 , Accuracy =  0.9031339031339032 %\n",
      "Number correct:  316 , Accuracy =  0.9002849002849003 %\n",
      "Number correct:  308 , Accuracy =  0.8774928774928775 %\n",
      "Number correct:  316 , Accuracy =  0.9002849002849003 %\n",
      "Number correct:  319 , Accuracy =  0.9088319088319088 %\n",
      "Number correct:  318 , Accuracy =  0.905982905982906 %\n",
      "Number correct:  305 , Accuracy =  0.8689458689458689 %\n",
      "Number correct:  317 , Accuracy =  0.9031339031339032 %\n",
      "Number correct:  317 , Accuracy =  0.9031339031339032 %\n",
      "Number correct:  313 , Accuracy =  0.8917378917378918 %\n",
      "Number correct:  317 , Accuracy =  0.9031339031339032 %\n",
      "Number correct:  322 , Accuracy =  0.9173789173789174 %\n",
      "Number correct:  314 , Accuracy =  0.8945868945868946 %\n",
      "Number correct:  312 , Accuracy =  0.8888888888888888 %\n"
     ]
    }
   ],
   "source": [
    "trainWeights(data, 1, 100)"
   ]
  }
 ],
 "metadata": {
  "kernelspec": {
   "display_name": "Python 3 (ipykernel)",
   "language": "python",
   "name": "python3"
  },
  "language_info": {
   "codemirror_mode": {
    "name": "ipython",
    "version": 3
   },
   "file_extension": ".py",
   "mimetype": "text/x-python",
   "name": "python",
   "nbconvert_exporter": "python",
   "pygments_lexer": "ipython3",
   "version": "3.9.12"
  }
 },
 "nbformat": 4,
 "nbformat_minor": 5
}
